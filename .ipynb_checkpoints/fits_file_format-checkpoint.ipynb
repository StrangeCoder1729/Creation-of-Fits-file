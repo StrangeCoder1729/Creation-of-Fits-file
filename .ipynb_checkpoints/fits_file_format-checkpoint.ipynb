{
 "cells": [
  {
   "cell_type": "code",
   "execution_count": 1,
   "id": "0a657759",
   "metadata": {},
   "outputs": [],
   "source": [
    "import numpy as np\n",
    "from astropy.io import fits"
   ]
  },
  {
   "cell_type": "code",
   "execution_count": 2,
   "id": "a2fe8689",
   "metadata": {},
   "outputs": [],
   "source": [
    "n = np.arange(100.0) #an array containing the numbers from 0 to 99"
   ]
  },
  {
   "cell_type": "code",
   "execution_count": 3,
   "id": "0813c4e3",
   "metadata": {},
   "outputs": [],
   "source": [
    "hdu = fits.PrimaryHDU(n) #creating the primary hdu which will contain the data"
   ]
  },
  {
   "cell_type": "code",
   "execution_count": 4,
   "id": "669366e0",
   "metadata": {},
   "outputs": [],
   "source": [
    "hdul = fits.HDUList([hdu]) #we will store the primary hdu in the hdulist\n",
    "hdul.writeto('new.fits', overwrite = True) #we write it to the new file"
   ]
  },
  {
   "cell_type": "markdown",
   "id": "35a64080",
   "metadata": {},
   "source": [
    "Binary fits table"
   ]
  },
  {
   "cell_type": "code",
   "execution_count": 5,
   "id": "1ae55efe",
   "metadata": {},
   "outputs": [],
   "source": [
    "from astropy.table import Table\n",
    "a1 = np.array(['NGC1001', 'NGC1002', 'NGC1003']) #targets\n",
    "a2 = np.array([11.1, 12.3, 15.2]) #their data (here we are taking floating numbers)\n",
    "col1 = fits.Column(name='target', format='20A', array = a1) #column containg the target\n",
    "col2 = fits.Column(name ='V_mag', format = 'E', array = a2) #column containing the magnification"
   ]
  },
  {
   "cell_type": "code",
   "execution_count": 6,
   "id": "cb841052",
   "metadata": {},
   "outputs": [],
   "source": [
    "cols = fits.ColDefs([col1, col2]) #coldefs: column-defination object for all the columns"
   ]
  },
  {
   "cell_type": "code",
   "execution_count": 7,
   "id": "ac54bfe8",
   "metadata": {},
   "outputs": [],
   "source": [
    "hdu = fits.BinTableHDU.from_columns(cols) #Creating a binary table hdu"
   ]
  },
  {
   "cell_type": "code",
   "execution_count": 8,
   "id": "708a5c61",
   "metadata": {},
   "outputs": [],
   "source": [
    "hdu.writeto('table.fits',overwrite = True) #writing the data into a new fits file"
   ]
  },
  {
   "cell_type": "markdown",
   "id": "cb9131c5",
   "metadata": {},
   "source": [
    "Creating multiple extensions"
   ]
  },
  {
   "cell_type": "code",
   "execution_count": 9,
   "id": "b5d5af6c",
   "metadata": {},
   "outputs": [],
   "source": [
    "import numpy as np\n",
    "n = np.ones((3, 3))\n",
    "n2 = np.ones((100, 100))\n",
    "n3 = np.ones((10, 10, 10))"
   ]
  },
  {
   "cell_type": "code",
   "execution_count": 10,
   "id": "c48f0824",
   "metadata": {},
   "outputs": [],
   "source": [
    "# n3"
   ]
  },
  {
   "cell_type": "code",
   "execution_count": 11,
   "id": "ef910392",
   "metadata": {},
   "outputs": [],
   "source": [
    "primary_hdu = fits.PrimaryHDU(n)\n",
    "image_hdu = fits.ImageHDU(n2)\n",
    "image_hdu2 = fits.ImageHDU(n3)"
   ]
  },
  {
   "cell_type": "code",
   "execution_count": 12,
   "id": "0c39f6b4",
   "metadata": {},
   "outputs": [],
   "source": [
    "c1 = fits.Column(name='a', array=np.array([1, 2]), format='K')\n",
    "c2 = fits.Column(name='b', array=np.array([4, 5]), format='K')\n",
    "c3 = fits.Column(name='c', array=np.array([7, 8]), format='K')\n",
    "table_hdu = fits.BinTableHDU.from_columns([c1, c2, c3])"
   ]
  },
  {
   "cell_type": "markdown",
   "id": "3e61dc42",
   "metadata": {},
   "source": [
    "Creating a header file"
   ]
  },
  {
   "cell_type": "code",
   "execution_count": 13,
   "id": "2ba4f437",
   "metadata": {},
   "outputs": [],
   "source": [
    "hdr = fits.Header()\n",
    "hdr['OBSERV'] = '' #Name of observatory\n",
    "hdr['TELESCOP'] = '' #Name of the telescope\n",
    "hdr['OBJEC'] = '' # name of the celestial object\n",
    "hdr['RA'] = '' #RA of the object\n",
    "hdr['DEC'] = '' #DEC of the object \n",
    "hdr['EXPOSED'] ='' #Exposed Time\n",
    "hdr['EXPTIME'] = '' #Exposure Time\n",
    "hdr['LAT'] = '' #latitutde of telescope\n",
    "hdr['LONG'] = '' #longitude of telescope\n",
    "hdr['ACMMODE'] = '' #imaging or spectroscopy\n",
    "hdr['STRINTG'] = '' #Start of integration \n",
    "hdr['MIDINTG'] = '' #Middle of integration\n",
    "empty_primary = fits.PrimaryHDU(header = hdr)"
   ]
  },
  {
   "cell_type": "code",
   "execution_count": 14,
   "id": "f6f4615e",
   "metadata": {},
   "outputs": [],
   "source": [
    "hdul = fits.HDUList([empty_primary, image_hdu2, table_hdu]) #creating the HDU list which contains all the extensions we need"
   ]
  },
  {
   "cell_type": "code",
   "execution_count": 15,
   "id": "a0340e92",
   "metadata": {},
   "outputs": [
    {
     "name": "stdout",
     "output_type": "stream",
     "text": [
      "Filename: (No file associated with this HDUList)\n",
      "No.    Name      Ver    Type      Cards   Dimensions   Format\n",
      "  0  PRIMARY       1 PrimaryHDU      16   ()      \n",
      "  1                1 ImageHDU         8   (10, 10, 10)   float64   \n",
      "  2                1 BinTableHDU     14   2R x 3C   ['K', 'K', 'K']   \n"
     ]
    }
   ],
   "source": [
    "hdul.info()"
   ]
  },
  {
   "cell_type": "code",
   "execution_count": 16,
   "id": "68a815ab",
   "metadata": {},
   "outputs": [
    {
     "data": {
      "text/plain": [
       "SIMPLE  =                    T / conforms to FITS standard                      \n",
       "BITPIX  =                    8 / array data type                                \n",
       "NAXIS   =                    0 / number of array dimensions                     \n",
       "EXTEND  =                    T                                                  \n",
       "OBSERV  = ''                                                                    \n",
       "TELESCOP= ''                                                                    \n",
       "OBJEC   = ''                                                                    \n",
       "RA      = ''                                                                    \n",
       "DEC     = ''                                                                    \n",
       "EXPOSED = ''                                                                    \n",
       "EXPTIME = ''                                                                    \n",
       "LAT     = ''                                                                    \n",
       "LONG    = ''                                                                    \n",
       "ACMMODE = ''                                                                    \n",
       "STRINTG = ''                                                                    \n",
       "MIDINTG = ''                                                                    "
      ]
     },
     "execution_count": 16,
     "metadata": {},
     "output_type": "execute_result"
    }
   ],
   "source": [
    "hdul[0].header"
   ]
  },
  {
   "cell_type": "code",
   "execution_count": null,
   "id": "52cc9462",
   "metadata": {},
   "outputs": [],
   "source": []
  },
  {
   "cell_type": "code",
   "execution_count": null,
   "id": "50c572ff",
   "metadata": {},
   "outputs": [],
   "source": []
  }
 ],
 "metadata": {
  "kernelspec": {
   "display_name": "Python 3 (ipykernel)",
   "language": "python",
   "name": "python3"
  },
  "language_info": {
   "codemirror_mode": {
    "name": "ipython",
    "version": 3
   },
   "file_extension": ".py",
   "mimetype": "text/x-python",
   "name": "python",
   "nbconvert_exporter": "python",
   "pygments_lexer": "ipython3",
   "version": "3.10.0"
  }
 },
 "nbformat": 4,
 "nbformat_minor": 5
}
